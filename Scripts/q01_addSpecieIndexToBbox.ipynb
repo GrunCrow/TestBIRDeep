{
 "cells": [
  {
   "cell_type": "markdown",
   "metadata": {},
   "source": [
    "# Add Species Index to Bounding Box Data\n",
    "\n",
    "This Jupyter Notebook reads a CSV file containing annotations of audio recordings of different species of birds. It then adds the species index as the first element in the bounding box data for each annotation. The species index is obtained from a predefined mapping of species to indices.\n",
    "\n",
    "## How to Use\n",
    "\n",
    "1. **Input CSV File**: Provide the path to the CSV file containing the annotations.\n",
    "2. **Output CSV File**: Specify the name of the output CSV file where the modified annotations will be saved.\n",
    "3. **Running the Notebook**: Execute each cell in order by clicking on the cell and pressing Shift + Enter.\n",
    "\n",
    "## Dependencies\n",
    "\n",
    "- pandas: This library is used to read and manipulate the CSV data."
   ]
  },
  {
   "cell_type": "code",
   "execution_count": 24,
   "metadata": {},
   "outputs": [],
   "source": [
    "import pandas as pd\n",
    "import ast"
   ]
  },
  {
   "cell_type": "code",
   "execution_count": 25,
   "metadata": {},
   "outputs": [],
   "source": [
    "ROOT_PATH = \"../\" #\"../../../desarrollo/\"\n",
    "\n",
    "input_file = ROOT_PATH + \"Data/Dataset/CSVs/dataset.csv\""
   ]
  },
  {
   "cell_type": "code",
   "execution_count": 26,
   "metadata": {},
   "outputs": [],
   "source": [
    "# Read the CSV file\n",
    "df = pd.read_csv(input_file)"
   ]
  },
  {
   "cell_type": "code",
   "execution_count": 27,
   "metadata": {},
   "outputs": [],
   "source": [
    "# Define a dictionary mapping species to index\n",
    "species_index = {\n",
    "    \"Bird\": 0,\n",
    "    \"Alaudidae\": 1,\n",
    "    \"Anthus pratensis\": 2,\n",
    "    \"Athene noctua\": 3,\n",
    "    \"Calandrella brachydactyla\": 4,\n",
    "    \"Carduelis carduelis\": 5,\n",
    "    \"Cettia cetti\": 6,\n",
    "    \"Chloris chloris\": 7,\n",
    "    \"Ciconia ciconia\": 8,\n",
    "    \"Cisticola juncidis\": 9,\n",
    "    \"Curruca\": 10,\n",
    "    \"Curruca melanocephala\": 11,\n",
    "    \"Curruca undata\": 12,\n",
    "    \"Cyanopica cooki\": 13,\n",
    "    \"Emberiza calandra\": 14,\n",
    "    \"Erithacus rubecula\": 15,\n",
    "    \"Falco tinnunculus\": 16,\n",
    "    \"Fringilla\": 17,\n",
    "    \"Galerida Cristata\": 18,\n",
    "    \"Galerida theklae\": 19,\n",
    "    \"Hippolais polyglotta\": 20,\n",
    "    \"Lanius\": 21,\n",
    "    \"Linaria Cannabina\": 22,\n",
    "    \"Luscinia megarhynchos\": 23,\n",
    "    \"Melanocorypha calandra\": 24,\n",
    "    \"Merops apiaster\": 25,\n",
    "    \"Milvus migrans\": 26,\n",
    "    \"Motacilla flava\": 27,\n",
    "    \"Parus major\": 28,\n",
    "    \"Passer\": 29,\n",
    "    \"Pica pica\": 30,\n",
    "    \"Saxicola rubicola\": 31,\n",
    "    \"Serinus serinus\": 32,\n",
    "    \"Streptopelia decaocto\": 33,\n",
    "    \"Sturnus\": 34,\n",
    "    \"Sturnus unicolor\": 35,\n",
    "    \"Sylvia\": 36,\n",
    "    \"Turdus merula\": 37,\n",
    "    \"Upupa epops\": 38\n",
    "}"
   ]
  },
  {
   "cell_type": "code",
   "execution_count": 28,
   "metadata": {},
   "outputs": [],
   "source": [
    "# Función para añadir el índice de la especie al bbox\n",
    "def add_species_index(row):\n",
    "    if row['specie'] != 'No audio':\n",
    "        species_idx = species_index.get(row['specie'], -1)\n",
    "        if species_idx != -1:\n",
    "            bbox_list = ast.literal_eval(row['bbox'])\n",
    "            bbox_list.insert(0, species_idx)\n",
    "            row['bbox'] = str(bbox_list)\n",
    "    else:\n",
    "        row['bbox'] = \"\\\"\"\n",
    "    return row\n",
    "\n",
    "# Aplicar la función a cada fila del DataFrame\n",
    "df = df.apply(add_species_index, axis=1)\n",
    "\n",
    "output_file = ROOT_PATH + \"Data/Dataset/CSVs/dataset.csv\"\n",
    "\n",
    "# Save the modified DataFrame to a new CSV file\n",
    "df.to_csv(output_file, index=False)"
   ]
  }
 ],
 "metadata": {
  "kernelspec": {
   "display_name": "BIRDeep_TFM_Alba",
   "language": "python",
   "name": "python3"
  },
  "language_info": {
   "codemirror_mode": {
    "name": "ipython",
    "version": 3
   },
   "file_extension": ".py",
   "mimetype": "text/x-python",
   "name": "python",
   "nbconvert_exporter": "python",
   "pygments_lexer": "ipython3",
   "version": "3.11.9"
  }
 },
 "nbformat": 4,
 "nbformat_minor": 2
}
