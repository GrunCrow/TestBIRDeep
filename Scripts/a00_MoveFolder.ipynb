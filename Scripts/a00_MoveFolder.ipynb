{
 "cells": [
  {
   "cell_type": "markdown",
   "metadata": {},
   "source": [
    "# Notebook for First Data Management after cloning the repo"
   ]
  },
  {
   "cell_type": "code",
   "execution_count": 8,
   "metadata": {},
   "outputs": [
    {
     "name": "stdout",
     "output_type": "stream",
     "text": [
      "Cloning into 'Donana_BIRDNET'...\n",
      "git: 'credential-wincred' is not a git command. See 'git --help'.\n",
      "Username for 'https://github.com': ^C\n"
     ]
    }
   ],
   "source": [
    "# !git clone https://github.com/iremendoza/Donana_BIRDNET"
   ]
  },
  {
   "cell_type": "code",
   "execution_count": 1,
   "metadata": {},
   "outputs": [
    {
     "name": "stdout",
     "output_type": "stream",
     "text": [
      "all_detections_afterlabellingGiulia.csv  AM3\n",
      "AM1\t\t\t\t\t AM4\n",
      "AM10\t\t\t\t\t AM8\n",
      "AM11\t\t\t\t\t AMDoñanaLabels.xlsx\n",
      "AM15\t\t\t\t\t Audacity_projectsGiulia_PAM\n",
      "AM16\t\t\t\t\t Labels_Giulia_Alicante_nofrequencyinfo\n",
      "AM2\t\t\t\t\t missing_frequencies_paths.txt\n"
     ]
    }
   ],
   "source": [
    "!ls ../../Donana_BIRDNET/Data/Audio_Data/"
   ]
  },
  {
   "cell_type": "code",
   "execution_count": 2,
   "metadata": {},
   "outputs": [
    {
     "name": "stdout",
     "output_type": "stream",
     "text": [
      "all_detections_afterlabellingGiulia.csv  AM3\n",
      "AM1\t\t\t\t\t AM4\n",
      "AM10\t\t\t\t\t AM8\n",
      "AM11\t\t\t\t\t AMDoñanaLabels.xlsx\n",
      "AM15\t\t\t\t\t Audacity_projectsGiulia_PAM\n",
      "AM16\t\t\t\t\t Labels_Giulia_Alicante_nofrequencyinfo\n",
      "AM2\t\t\t\t\t missing_frequencies_paths.txt\n"
     ]
    }
   ],
   "source": [
    "!ls ../../../desarrollo/Audio_Data"
   ]
  },
  {
   "cell_type": "code",
   "execution_count": 3,
   "metadata": {},
   "outputs": [],
   "source": [
    "!rm -rf ../../../desarrollo/Audio_Data"
   ]
  },
  {
   "cell_type": "code",
   "execution_count": 4,
   "metadata": {},
   "outputs": [],
   "source": [
    "!cp -r ../../Donana_BIRDNET/Data/Audio_Data/ ../../../desarrollo/Audio_Data"
   ]
  },
  {
   "cell_type": "code",
   "execution_count": 5,
   "metadata": {},
   "outputs": [],
   "source": [
    "!rm -rf ../../Donana_BIRDNET"
   ]
  },
  {
   "cell_type": "code",
   "execution_count": 5,
   "metadata": {},
   "outputs": [],
   "source": [
    "#!cp -r ../../BIRDeep_NeuralNetworks/Dataset/Audios ../../../desarrollo/Audio_Data"
   ]
  },
  {
   "cell_type": "code",
   "execution_count": 6,
   "metadata": {},
   "outputs": [],
   "source": [
    "#!rm -rf ../../BIRDeep_NeuralNetworks/Dataset/Audios"
   ]
  }
 ],
 "metadata": {
  "kernelspec": {
   "display_name": "BIRDeep_TFM_Alba",
   "language": "python",
   "name": "python3"
  },
  "language_info": {
   "codemirror_mode": {
    "name": "ipython",
    "version": 3
   },
   "file_extension": ".py",
   "mimetype": "text/x-python",
   "name": "python",
   "nbconvert_exporter": "python",
   "pygments_lexer": "ipython3",
   "version": "3.11.7"
  }
 },
 "nbformat": 4,
 "nbformat_minor": 2
}
