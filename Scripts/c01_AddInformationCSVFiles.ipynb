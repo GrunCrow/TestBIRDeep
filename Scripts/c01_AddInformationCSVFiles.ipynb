{
 "cells": [
  {
   "cell_type": "markdown",
   "metadata": {},
   "source": [
    "# Add Information to Base CSV Files\n",
    "\n",
    "This Jupyter Notebook is designed to add more annotations to  CSV base files.\n",
    "\n",
    "The new annotations contain data related to the date and time of bird songs recordings. The goal is to create new CSV files that store this information in a structured format.\n",
    "\n",
    "## Process Overview\n",
    "\n",
    "1. The notebook will recursively search for CSV annotation files within a specified data directory.\n",
    "\n",
    "2. For each CSV file found, it will extract relevant information, including the audio file name, start time, end time, and bird species.\n",
    "\n",
    "3. The extracted data will be organized into a structured DataFrame.\n",
    "\n",
    "4. New interesing data will be created and added to each audio file as date and time of the recording.\n",
    "\n",
    "5. The data will be saved as a CSV file with a name matching the original TXT file in the \"Data/Annotations\" directory."
   ]
  },
  {
   "cell_type": "code",
   "execution_count": 1,
   "metadata": {},
   "outputs": [],
   "source": [
    "import pandas as pd"
   ]
  },
  {
   "cell_type": "code",
   "execution_count": 2,
   "metadata": {},
   "outputs": [],
   "source": [
    "ROOT_PATH = \"../../../desarrollo/\"\n",
    "\n",
    "# Load the CSV file\n",
    "input_file = ROOT_PATH + \"Data/Annotations/\" + \"b01_audio_annotations.csv\"\n",
    "df = pd.read_csv(input_file)\n",
    "\n",
    "# Path to the folder where you want to save the CSV files\n",
    "output_file = ROOT_PATH + \"Data/Annotations/\" + \"c01_audio_annotations.csv\""
   ]
  },
  {
   "cell_type": "code",
   "execution_count": 3,
   "metadata": {},
   "outputs": [],
   "source": [
    "# Rename columns 'start' and 'end' to 'start_time' and 'end_time'\n",
    "# df.rename(columns={\"start\": \"start_time\", \"end\": \"end_time\"}, inplace=True)"
   ]
  },
  {
   "cell_type": "code",
   "execution_count": 3,
   "metadata": {},
   "outputs": [],
   "source": [
    "# Ensure the 'file' column is of string type\n",
    "df['path'] = df['path'].astype(str)\n",
    "\n",
    "# Define a function to construct the 'recorder' value\n",
    "def create_recorder(row):\n",
    "    parts = row['path'].split(\"/\")\n",
    "    recorder_part = f\"{parts[0]}\"\n",
    "    return f\"{recorder_part}\"\n",
    "\n",
    "# Define a function to construct the 'path' value\n",
    "def create_path(row):\n",
    "    # delete the subdirectory EtiquetasAudios from path\n",
    "    parts = row['path'].split(\"/\")\n",
    "    path_part = f\"{parts[0]}/{parts[1]}/{parts[3]}\"\n",
    "    return f\"{path_part}\"\n",
    "\n",
    "# Define a function to construct the 'date' value %YYYY/mm/dd\n",
    "def create_date(row):\n",
    "    parts = row['path'].split(\"/\")\n",
    "    date_part = f\"{parts[1].split('_')[0]}/{parts[1].split('_')[1]}/{parts[1].split('_')[2]}\"\n",
    "    return f\"{date_part}\"\n",
    "\n",
    "# Define a function to construct the 'time' value %HH:MM:SS\n",
    "def create_time(row):\n",
    "    parts = row['path'].split(\"/\")[2].split(\"_\")\n",
    "    time_part = f\"{parts[2][:2]}:{parts[2][2:4]}:{parts[2][4:6]}\"\n",
    "    return f\"{time_part}\"\n",
    "\n",
    "# Apply the function to create the 'recorder' column\n",
    "df['recorder'] = df.apply(create_recorder, axis=1)\n",
    "\n",
    "# Apply the function to create the 'path' column\n",
    "df['path'] = df.apply(create_path, axis=1)\n",
    "\n",
    "# Apply the function to create the 'date' column\n",
    "df['date'] = df.apply(create_date, axis=1)\n",
    "\n",
    "# Apply the function to create the 'path' column\n",
    "df['time'] = df.apply(create_time, axis=1)"
   ]
  },
  {
   "cell_type": "code",
   "execution_count": 4,
   "metadata": {},
   "outputs": [],
   "source": [
    "# Rearrange the columns\n",
    "df = df[['path', 'annotator', 'recorder', 'date', 'time', 'start_time', 'end_time', 'low_frequency', 'high_frequency', 'specie']]"
   ]
  },
  {
   "cell_type": "code",
   "execution_count": 5,
   "metadata": {},
   "outputs": [],
   "source": [
    "# Save the transformed file\n",
    "df.to_csv(output_file, index=False)"
   ]
  }
 ],
 "metadata": {
  "kernelspec": {
   "display_name": "BIRDeep",
   "language": "python",
   "name": "python3"
  },
  "language_info": {
   "codemirror_mode": {
    "name": "ipython",
    "version": 3
   },
   "file_extension": ".py",
   "mimetype": "text/x-python",
   "name": "python",
   "nbconvert_exporter": "python",
   "pygments_lexer": "ipython3",
   "version": "3.11.7"
  }
 },
 "nbformat": 4,
 "nbformat_minor": 2
}
