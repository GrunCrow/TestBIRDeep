{
 "cells": [
  {
   "cell_type": "markdown",
   "metadata": {},
   "source": [
    "This Jupyter Notebook is designed to extract unique species names from an existing CSV file containing audio annotations. The annotations include information such as the path to the audio file, recording details, duration, time, frequency ranges, species names, and bounding box coordinates. \n",
    "\n",
    "The notebook performs the following tasks:\n",
    "\n",
    "1. **Data Loading**: It loads the original CSV file containing audio annotations, which includes species names.\n",
    "\n",
    "2. **Unique Species Extraction**: It extracts unique species names from the loaded CSV file.\n",
    "\n",
    "3. **Data Transformation**: The unique species names are then stored in a new DataFrame.\n",
    "\n",
    "4. **Data Saving**: Finally, the DataFrame containing the unique species names is saved to a new CSV file for further analysis or use in other projects.\n",
    "\n",
    "By executing this notebook, users can efficiently extract and organize unique species names from the audio annotations dataset, facilitating subsequent analysis and data management tasks."
   ]
  },
  {
   "cell_type": "code",
   "execution_count": 6,
   "metadata": {},
   "outputs": [],
   "source": [
    "import pandas as pd"
   ]
  },
  {
   "cell_type": "code",
   "execution_count": 7,
   "metadata": {},
   "outputs": [],
   "source": [
    "# Definir el ROOT_PATH\n",
    "ROOT_PATH = \"../\" #\"../../../desarrollo/\"\n",
    "\n",
    "# Path al CSV original de las anotaciones de audio\n",
    "csv_file = ROOT_PATH + \"Data/Annotations/audio_annotations.csv\"\n",
    "\n",
    "# Leer el CSV original\n",
    "df = pd.read_csv(csv_file)"
   ]
  },
  {
   "cell_type": "code",
   "execution_count": 3,
   "metadata": {},
   "outputs": [],
   "source": [
    "# Get the unique species names\n",
    "unique_species = df['specie'].unique()\n",
    "\n",
    "# Create a DataFrame with the unique species names\n",
    "species_df = pd.DataFrame(unique_species, columns=['Species'])\n",
    "\n",
    "# Order alphabetically\n",
    "species_df = species_df.sort_values(by='Species')\n",
    "\n",
    "# Path to the CSV to save the unique species names\n",
    "output_csv = \"../Data/Annotations/unique_species.csv\"\n",
    "\n",
    "# Save the unique species names to a new CSV\n",
    "species_df.to_csv(output_csv, index=False)"
   ]
  },
  {
   "cell_type": "code",
   "execution_count": 4,
   "metadata": {},
   "outputs": [
    {
     "name": "stderr",
     "output_type": "stream",
     "text": [
      "'cp' is not recognized as an internal or external command,\n",
      "operable program or batch file.\n"
     ]
    }
   ],
   "source": [
    "!cp ../Data/Annotations/unique_species_mapped.csv ../../../desarrollo/Data/Annotations/unique_species_mapped.csv "
   ]
  },
  {
   "cell_type": "code",
   "execution_count": 8,
   "metadata": {},
   "outputs": [
    {
     "name": "stdout",
     "output_type": "stream",
     "text": [
      "Number of annotations:  5778\n"
     ]
    }
   ],
   "source": [
    "# Function to perform species mapping\n",
    "def map_species(input_file, output_file, species_mapping_file):\n",
    "    # Get the species mapping DataFrame\n",
    "    species_mapping_df = pd.read_csv(species_mapping_file)\n",
    "\n",
    "    if species_mapping_df is None:\n",
    "        print(\"Error getting species mapping.\")\n",
    "        return\n",
    "\n",
    "    # Read the input file\n",
    "    input_df = pd.read_csv(input_file)\n",
    "\n",
    "    # Map the species using the mapping DataFrame\n",
    "    input_df['specie'] = input_df['specie'].map(dict(zip(species_mapping_df['Species'], species_mapping_df['Specie_Name'])))\n",
    "\n",
    "    # Number of rows of df\n",
    "    print(\"Number of annotations: \", len(input_df))\n",
    "\n",
    "    # Save the output file\n",
    "    input_df.to_csv(output_file, index=False)\n",
    "\n",
    "# Usage of the map_species function\n",
    "input_file = ROOT_PATH + \"Data/Annotations/audio_annotations.csv\"\n",
    "output_file = ROOT_PATH + \"Data/Annotations/audio_annotations.csv\"\n",
    "species_mapping_file = ROOT_PATH + \"Data/Annotations/unique_species_mapped.csv\"\n",
    "\n",
    "map_species(input_file, output_file, species_mapping_file)"
   ]
  },
  {
   "cell_type": "code",
   "execution_count": 28,
   "metadata": {},
   "outputs": [
    {
     "name": "stdout",
     "output_type": "stream",
     "text": [
      "Number of annotations:  3749\n"
     ]
    },
    {
     "name": "stderr",
     "output_type": "stream",
     "text": [
      "C:\\Users\\albam\\AppData\\Local\\Temp\\ipykernel_38868\\3357918976.py:27: DeprecationWarning: DataFrameGroupBy.apply operated on the grouping columns. This behavior is deprecated, and in a future version of pandas the grouping columns will be excluded from the operation. Either pass `include_groups=False` to exclude the groupings or explicitly select the grouping columns after groupby to silence this warning.\n",
      "  df = df.groupby('path', group_keys=False).apply(filter_rows)\n"
     ]
    }
   ],
   "source": [
    "input_file = ROOT_PATH + \"Data/Annotations/audio_annotations.csv\"\n",
    "output_file = ROOT_PATH + \"Data/Annotations/audio_annotations.csv\"\n",
    "\n",
    "# Read the input file\n",
    "df = pd.read_csv(input_file)\n",
    "\n",
    "# Delete Unknown rows\n",
    "df = df[df['specie'] != \"Unknown\"] # Unknown = Bird\n",
    "\n",
    "# If specie = Quiroptera or Abiotic noise or Insect or No audio, change to No audio and if there are several rows with the same path and all the species of the path are No audio, delete all but one. If there are several rows with the same path and at least one specie is not No audio, delete the No audio rows\n",
    "# Lista de especies a cambiar a \"No audio\"\n",
    "no_audio_species = [\"Quiroptera\", \"Abiotic noise\", \"Abiotic Noise\", \"Insect\", \"No audio\"]\n",
    "\n",
    "# Cambiar las especies a \"No audio\"\n",
    "df['specie'] = df['specie'].apply(lambda x: 'No audio' if x in no_audio_species else x)\n",
    "\n",
    "# Agrupar por 'path' y filtrar\n",
    "def filter_rows(group):\n",
    "    if (group['specie'] == 'No audio').all():\n",
    "        # Si todas las filas en el grupo son \"No audio\", mantener solo una fila\n",
    "        return group.iloc[:1]\n",
    "    else:\n",
    "        # Si hay al menos una fila que no es \"No audio\", eliminar las filas \"No audio\"\n",
    "        return group[group['specie'] != 'No audio']\n",
    "\n",
    "# Aplicar el filtrado por grupos de 'path'\n",
    "df = df.groupby('path', group_keys=False).apply(filter_rows)\n",
    "\n",
    "# input_df = input_df[input_df['specie'] != \"Quiroptera\"]\n",
    "# input_df = input_df[input_df['specie'] != \"Abiotic noise\"]\n",
    "# input_df = input_df[input_df['specie'] != \"Insect\"]\n",
    "\n",
    "print(\"Number of annotations: \", len(df))"
   ]
  },
  {
   "cell_type": "code",
   "execution_count": 29,
   "metadata": {},
   "outputs": [],
   "source": [
    "# Get the species counts\n",
    "species_counts = df['specie'].value_counts()\n",
    "\n",
    "# Get the species with less than X samples\n",
    "X = 10\n",
    "less_than_10 = species_counts[species_counts < X]\n",
    "\n",
    "# Map the species with less than 10 samples to \"bird\"\n",
    "df['specie'] = df['specie'].apply(lambda x: \"Bird\" if x in less_than_10 else x)\n",
    "\n",
    "# unknown is bird\n",
    "# input_df['specie'] = input_df['specie'].apply(lambda x: \"bird\" if x == \"unknown\" else x)\n",
    "\n",
    "# Save the output file\n",
    "df.to_csv(output_file, index=False)\n",
    "\n",
    "# Also save the CSV with name dataset.csv\n",
    "output_file = ROOT_PATH + \"Data/Dataset/CSVs/dataset.csv\"\n",
    "df.to_csv(output_file, index=False)"
   ]
  },
  {
   "cell_type": "code",
   "execution_count": 30,
   "metadata": {},
   "outputs": [
    {
     "name": "stdout",
     "output_type": "stream",
     "text": [
      "Number of annotations:  3749\n"
     ]
    }
   ],
   "source": [
    "# Number of rows of df\n",
    "print(\"Number of annotations: \", len(df))"
   ]
  },
  {
   "cell_type": "code",
   "execution_count": 31,
   "metadata": {},
   "outputs": [],
   "source": [
    "output_file = ROOT_PATH + \"Data/Dataset/CSVs/dataset.csv\""
   ]
  },
  {
   "cell_type": "code",
   "execution_count": 35,
   "metadata": {},
   "outputs": [
    {
     "name": "stdout",
     "output_type": "stream",
     "text": [
      "0: Bird\n",
      "1: Alaudidae\n",
      "2: Anthus pratensis\n",
      "3: Athene noctua\n",
      "4: Calandrella brachydactyla\n",
      "5: Carduelis carduelis\n",
      "6: Cettia cetti\n",
      "7: Chloris chloris\n",
      "8: Ciconia ciconia\n",
      "9: Cisticola juncidis\n",
      "10: Curruca\n",
      "11: Curruca melanocephala\n",
      "12: Curruca undata\n",
      "13: Cyanopica cooki\n",
      "14: Emberiza calandra\n",
      "15: Erithacus rubecula\n",
      "16: Falco tinnunculus\n",
      "17: Fringilla\n",
      "18: Galerida Cristata\n",
      "19: Galerida theklae\n",
      "20: Hippolais polyglotta\n",
      "21: Lanius\n",
      "22: Linaria Cannabina\n",
      "23: Luscinia megarhynchos\n",
      "24: Melanocorypha calandra\n",
      "25: Merops apiaster\n",
      "26: Milvus migrans\n",
      "27: Motacilla flava\n",
      "28: Parus major\n",
      "29: Passer\n",
      "30: Pica pica\n",
      "31: Saxicola rubicola\n",
      "32: Serinus serinus\n",
      "33: Streptopelia decaocto\n",
      "34: Sturnus\n",
      "35: Sturnus unicolor\n",
      "36: Sylvia\n",
      "37: Turdus merula\n",
      "38: Upupa epops\n"
     ]
    }
   ],
   "source": [
    "# Take outputfile and print the unique species ordered alphabetically and preceded by an enumeration starting by 0 and :\n",
    "df = pd.read_csv(output_file)\n",
    "df['specie'] = df['specie'].astype(str)\n",
    "# Sort unique species alphabetically\n",
    "unique_species_sorted = sorted(df['specie'].unique())\n",
    "\n",
    "# eliminate abiotic noise, unknown and nan\n",
    "unique_species_sorted = [x for x in unique_species_sorted if x not in ['No audio']]\n",
    "\n",
    "# Put Bird the first\n",
    "unique_species_sorted.remove('Bird')\n",
    "unique_species_sorted.insert(0, 'Bird')\n",
    "\n",
    "for i, specie in enumerate(unique_species_sorted):\n",
    "    print(f\"{i}: {specie}\")"
   ]
  },
  {
   "cell_type": "code",
   "execution_count": 34,
   "metadata": {},
   "outputs": [],
   "source": [
    "input_file = ROOT_PATH + \"Data/Dataset/CSVs/dataset.csv\"\n",
    "\n",
    "# If specie = No audio -> change bbox to \"\"\n",
    "df = pd.read_csv(input_file)\n",
    "df['bbox'] = df.apply(lambda x: \"\\\"\" if x['specie'] == \"No audio\" else x['bbox'], axis=1)\n",
    "\n",
    "# Save the output file\n",
    "df.to_csv(input_file, index=False)"
   ]
  }
 ],
 "metadata": {
  "kernelspec": {
   "display_name": "BIRDeep_TFM_Alba",
   "language": "python",
   "name": "python3"
  },
  "language_info": {
   "codemirror_mode": {
    "name": "ipython",
    "version": 3
   },
   "file_extension": ".py",
   "mimetype": "text/x-python",
   "name": "python",
   "nbconvert_exporter": "python",
   "pygments_lexer": "ipython3",
   "version": "3.11.9"
  }
 },
 "nbformat": 4,
 "nbformat_minor": 2
}
