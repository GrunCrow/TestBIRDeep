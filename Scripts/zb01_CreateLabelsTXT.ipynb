{
 "cells": [
  {
   "cell_type": "code",
   "execution_count": 1,
   "metadata": {},
   "outputs": [],
   "source": [
    "import os"
   ]
  },
  {
   "cell_type": "code",
   "execution_count": 2,
   "metadata": {},
   "outputs": [],
   "source": [
    "# Define the paths to images and labels folders\n",
    "PATH = \"../Data/\" # \"../../../desarrollo/Data/\"\n",
    "\n",
    "labels_dir = PATH + 'Dataset/labels'\n",
    "new_labels_dir = PATH + 'Dataset/labels_fullheight'"
   ]
  },
  {
   "cell_type": "code",
   "execution_count": 4,
   "metadata": {},
   "outputs": [],
   "source": [
    "import os\n",
    "\n",
    "def transform_bounding_boxes(file_path):\n",
    "    transformed_boxes = []\n",
    "    with open(file_path, 'r') as f:\n",
    "        lines = f.readlines()\n",
    "        for line in lines:\n",
    "            parts = line.strip().split()\n",
    "            if len(parts) == 5:\n",
    "                class_num = parts[0]\n",
    "                x_center = float(parts[1])\n",
    "                y_center = 0.5  # Nuevo valor para y_center\n",
    "                width = float(parts[3])\n",
    "                height = 1.0  # Nuevo valor para height\n",
    "                transformed_boxes.append(f\"{class_num} {x_center} {y_center} {width} {height}\\n\")\n",
    "    return transformed_boxes\n",
    "\n",
    "def replicate_structure_and_transform(root_dir, new_labels_dir):\n",
    "    # Crea la estructura de carpetas primero\n",
    "    for subdir, dirs, files in os.walk(root_dir):\n",
    "        for dir in dirs:\n",
    "            dir_path = os.path.join(subdir, dir)\n",
    "            relative_path = os.path.relpath(dir_path, root_dir)\n",
    "            new_dir = os.path.join(new_labels_dir, relative_path)\n",
    "            if not os.path.exists(new_dir):\n",
    "                os.makedirs(new_dir)\n",
    "    \n",
    "    # Ahora procesa los archivos .txt\n",
    "    for subdir, _, files in os.walk(root_dir):\n",
    "        for file in files:\n",
    "            if file.endswith(\".txt\"):\n",
    "                file_path = os.path.join(subdir, file)\n",
    "                relative_path = os.path.relpath(file_path, root_dir)\n",
    "                new_file_path = os.path.join(new_labels_dir, relative_path)\n",
    "                new_dir = os.path.dirname(new_file_path)\n",
    "                \n",
    "                if not os.path.exists(new_dir):\n",
    "                    os.makedirs(new_dir)\n",
    "                \n",
    "                transformed_boxes = transform_bounding_boxes(file_path)\n",
    "                \n",
    "                with open(new_file_path, 'w') as new_file:\n",
    "                    new_file.writelines(transformed_boxes)\n",
    "\n",
    "replicate_structure_and_transform(labels_dir, new_labels_dir)"
   ]
  },
  {
   "cell_type": "code",
   "execution_count": 5,
   "metadata": {},
   "outputs": [
    {
     "name": "stdout",
     "output_type": "stream",
     "text": [
      "Total .txt files in ../Data/Dataset/labels and its subdirectories: 291\n",
      "Total .txt files in ../Data/Dataset/labels_fullheight and its subdirectories: 291\n"
     ]
    }
   ],
   "source": [
    "def count_txt_files(directory):\n",
    "    txt_file_count = 0\n",
    "    for root, dirs, files in os.walk(directory):\n",
    "        for file in files:\n",
    "            if file.endswith(\".txt\"):\n",
    "                txt_file_count += 1\n",
    "    return txt_file_count\n",
    "\n",
    "# Count txt files in labels_dir\n",
    "total_txt_files = count_txt_files(labels_dir)\n",
    "print(\"Total .txt files in\", labels_dir, \"and its subdirectories:\", total_txt_files)\n",
    "\n",
    "# Count txt files in new_labels_dir\n",
    "new_total_txt_files = count_txt_files(new_labels_dir)\n",
    "print(\"Total .txt files in\", new_labels_dir, \"and its subdirectories:\", total_txt_files)\n",
    "\n",
    "assert total_txt_files == new_total_txt_files, \"The number of .txt files does not match the number of unique paths in the dataframe\""
   ]
  }
 ],
 "metadata": {
  "kernelspec": {
   "display_name": "otherstuffystuff",
   "language": "python",
   "name": "python3"
  },
  "language_info": {
   "codemirror_mode": {
    "name": "ipython",
    "version": 3
   },
   "file_extension": ".py",
   "mimetype": "text/x-python",
   "name": "python",
   "nbconvert_exporter": "python",
   "pygments_lexer": "ipython3",
   "version": "3.11.9"
  },
  "orig_nbformat": 4
 },
 "nbformat": 4,
 "nbformat_minor": 2
}
