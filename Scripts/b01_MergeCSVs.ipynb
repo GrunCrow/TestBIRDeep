{
 "cells": [
  {
   "cell_type": "markdown",
   "metadata": {},
   "source": [
    "## Merging Multiple CSV Files\n",
    "\n",
    "This Jupyter Notebook merge multiple CSV files into a single CSV file. It also performs a safety check to verify that the row count in the output CSV matches the sum of the row counts in the input CSV files. After the merge is complete, it removes the input CSV files.\n",
    "\n",
    "1. **Get a List of CSV Files**: The code lists all the files in the input folder and filters for those with a \".csv\" extension.\n",
    "\n",
    "2. **Initialize an Empty List**: An empty list is initialized to store DataFrames.\n",
    "\n",
    "3. **Iterate through CSV Files**: The code iterates through each CSV file, reads its data, and appends the data to the list of DataFrames.\n",
    "\n",
    "4. **Save the Combined DataFrame**: The merged DataFrame is saved as a new CSV file named \"audio_annotations.csv.\"\n",
    "\n",
    "5. **Row Count Verification**: The code calculates the row count in the input CSV files and compares it to the row count in the merged CSV. An assertion check is performed to ensure they match.\n",
    "\n",
    "6. **Remove Input CSV Files**: Finally, the code removes the original input CSV files to clean up the folder."
   ]
  },
  {
   "cell_type": "code",
   "execution_count": 4,
   "metadata": {},
   "outputs": [],
   "source": [
    "import os\n",
    "import pandas as pd"
   ]
  },
  {
   "cell_type": "code",
   "execution_count": 5,
   "metadata": {},
   "outputs": [],
   "source": [
    "ROOT_PATH = \"../../../desarrollo/\"\n",
    "\n",
    "# Load the CSV file\n",
    "input_folder = ROOT_PATH + \"Data/Annotations\"\n",
    "\n",
    "# Path to the folder where you want to save the CSV files\n",
    "output_file = ROOT_PATH + \"Data/Annotations/\" + \"b01_audio_annotations.csv\""
   ]
  },
  {
   "cell_type": "code",
   "execution_count": 6,
   "metadata": {},
   "outputs": [],
   "source": [
    "# Get a list of CSV files in the input folder\n",
    "csv_files = [file for file in os.listdir(input_folder) if file.endswith(\".csv\")]\n",
    "\n",
    "# Initialize an empty list to store DataFrames\n",
    "dataframes = []\n",
    "\n",
    "# Iterate through each CSV file, read its data, and append it to the list\n",
    "for csv_file in csv_files:\n",
    "    file_path = os.path.join(input_folder, csv_file)\n",
    "    data = pd.read_csv(file_path)\n",
    "    dataframes.append(data)\n",
    "\n",
    "# Concatenate the DataFrames into a single DataFrame\n",
    "combined_df = pd.concat(dataframes, ignore_index=True)\n",
    "\n",
    "# Save the combined DataFrame to a single CSV file\n",
    "combined_df.to_csv(output_file, index=False)\n",
    "\n",
    "# Ensure the row count in the output CSV matches the sum of row counts in input CSVs\n",
    "row_count_input = sum([pd.read_csv(os.path.join(input_folder, file)).shape[0] for file in csv_files])\n",
    "row_count_output = combined_df.shape[0]\n",
    "\n",
    "# Perform a safety check\n",
    "assert row_count_output == row_count_input, \"Row count mismatch between input and output CSVs.\"\n",
    "\n",
    "# Remove the input CSV files\n",
    "for csv_file in csv_files:\n",
    "    file_path = os.path.join(input_folder, csv_file)\n",
    "    os.remove(file_path)"
   ]
  },
  {
   "cell_type": "code",
   "execution_count": null,
   "metadata": {},
   "outputs": [],
   "source": []
  }
 ],
 "metadata": {
  "kernelspec": {
   "display_name": "BIRDeep",
   "language": "python",
   "name": "python3"
  },
  "language_info": {
   "codemirror_mode": {
    "name": "ipython",
    "version": 3
   },
   "file_extension": ".py",
   "mimetype": "text/x-python",
   "name": "python",
   "nbconvert_exporter": "python",
   "pygments_lexer": "ipython3",
   "version": "3.11.7"
  }
 },
 "nbformat": 4,
 "nbformat_minor": 2
}
