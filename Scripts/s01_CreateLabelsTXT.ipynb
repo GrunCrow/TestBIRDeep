{
 "cells": [
  {
   "cell_type": "code",
   "execution_count": 6,
   "metadata": {},
   "outputs": [],
   "source": [
    "import os\n",
    "import pandas as pd\n",
    "import ast"
   ]
  },
  {
   "cell_type": "code",
   "execution_count": 7,
   "metadata": {},
   "outputs": [],
   "source": [
    "# Define the paths to images and labels folders\n",
    "PATH = \"../Data/\" # \"../../../desarrollo/Data/\"\n",
    "\n",
    "images_dir = PATH + 'Dataset/images'\n",
    "labels_dir = PATH + 'Dataset/labels'\n",
    "csv_path = PATH + 'Dataset/CSVs/dataset.csv'"
   ]
  },
  {
   "cell_type": "code",
   "execution_count": 8,
   "metadata": {},
   "outputs": [],
   "source": [
    "# Read the CSV file into a DataFrame\n",
    "df = pd.read_csv(csv_path)"
   ]
  },
  {
   "cell_type": "code",
   "execution_count": 9,
   "metadata": {},
   "outputs": [
    {
     "name": "stdout",
     "output_type": "stream",
     "text": [
      "Done!\n"
     ]
    }
   ],
   "source": [
    "for _, row in df.iterrows():\n",
    "    # Generar la ruta para la carpeta de etiquetas correspondiente a la imagen\n",
    "    label_folder = os.path.join(labels_dir, os.path.dirname(row['path']))\n",
    "    os.makedirs(label_folder, exist_ok=True)  # Crear la carpeta si no existe\n",
    "    \n",
    "    # Generar el nombre del archivo .txt basado en el nombre de la imagen\n",
    "    txt_file_path = os.path.join(labels_dir, row['path'].replace(\".WAV\", \".txt\"))\n",
    "    \n",
    "    # Verificar si el valor en 'bbox' es NaN\n",
    "    if pd.isna(row['bbox']):\n",
    "        bounding_box = []\n",
    "    else:\n",
    "        # Convertir la cadena de la caja delimitadora a una lista de valores\n",
    "        bounding_box = ast.literal_eval(row['bbox'])\n",
    "    \n",
    "    if bounding_box:      \n",
    "        # Si el archivo .txt ya existe, agregar la caja delimitadora como nueva línea, de lo contrario, crear uno nuevo\n",
    "        if os.path.exists(txt_file_path):\n",
    "            with open(txt_file_path, 'a') as txt_file:\n",
    "                txt_file.write(\" \".join(str(item) for item in bounding_box) + '\\n')\n",
    "        else:\n",
    "            with open(txt_file_path, 'w') as txt_file:\n",
    "                txt_file.write(\" \".join(str(item) for item in bounding_box) + '\\n')\n",
    "    '''else:\n",
    "        # Si el archivo .txt ya existe no hacer nada, de lo contrario, crear un nuevo archivo vacío\n",
    "        if not os.path.exists(txt_file_path):\n",
    "            with open(txt_file_path, 'w') as txt_file:\n",
    "                pass'''\n",
    "\n",
    "print(\"Done!\")"
   ]
  },
  {
   "cell_type": "code",
   "execution_count": 10,
   "metadata": {},
   "outputs": [
    {
     "name": "stdout",
     "output_type": "stream",
     "text": [
      "Total .txt files in ../Data/Dataset/labels and its subdirectories: 291\n",
      "Unique paths in the dataframe: 461\n"
     ]
    },
    {
     "ename": "AssertionError",
     "evalue": "The number of .txt files does not match the number of unique paths in the dataframe",
     "output_type": "error",
     "traceback": [
      "\u001b[1;31m---------------------------------------------------------------------------\u001b[0m",
      "\u001b[1;31mAssertionError\u001b[0m                            Traceback (most recent call last)",
      "Cell \u001b[1;32mIn[10], line 17\u001b[0m\n\u001b[0;32m     14\u001b[0m unique_paths \u001b[38;5;241m=\u001b[39m df[\u001b[38;5;124m'\u001b[39m\u001b[38;5;124mpath\u001b[39m\u001b[38;5;124m'\u001b[39m]\u001b[38;5;241m.\u001b[39mnunique()\n\u001b[0;32m     15\u001b[0m \u001b[38;5;28mprint\u001b[39m(\u001b[38;5;124m\"\u001b[39m\u001b[38;5;124mUnique paths in the dataframe:\u001b[39m\u001b[38;5;124m\"\u001b[39m, unique_paths)\n\u001b[1;32m---> 17\u001b[0m \u001b[38;5;28;01massert\u001b[39;00m total_txt_files \u001b[38;5;241m==\u001b[39m unique_paths, \u001b[38;5;124m\"\u001b[39m\u001b[38;5;124mThe number of .txt files does not match the number of unique paths in the dataframe\u001b[39m\u001b[38;5;124m\"\u001b[39m\n\u001b[0;32m     18\u001b[0m \u001b[38;5;66;03m# Da error porque hay 170 audios vacíos, por lo que no se crean los txt correspondientes -> está bn\u001b[39;00m\n",
      "\u001b[1;31mAssertionError\u001b[0m: The number of .txt files does not match the number of unique paths in the dataframe"
     ]
    }
   ],
   "source": [
    "def count_txt_files(directory):\n",
    "    txt_file_count = 0\n",
    "    for root, dirs, files in os.walk(directory):\n",
    "        for file in files:\n",
    "            if file.endswith(\".txt\"):\n",
    "                txt_file_count += 1\n",
    "    return txt_file_count\n",
    "\n",
    "# Count txt files in labels_dir\n",
    "total_txt_files = count_txt_files(labels_dir)\n",
    "print(\"Total .txt files in\", labels_dir, \"and its subdirectories:\", total_txt_files)\n",
    "\n",
    "# Count unique paths of the dataframe\n",
    "unique_paths = df['path'].nunique()\n",
    "print(\"Unique paths in the dataframe:\", unique_paths)\n",
    "\n",
    "assert total_txt_files == unique_paths, \"The number of .txt files does not match the number of unique paths in the dataframe\"\n",
    "# Da error porque hay 170 audios vacíos, por lo que no se crean los txt correspondientes -> está bn"
   ]
  }
 ],
 "metadata": {
  "kernelspec": {
   "display_name": "otherstuffystuff",
   "language": "python",
   "name": "python3"
  },
  "language_info": {
   "codemirror_mode": {
    "name": "ipython",
    "version": 3
   },
   "file_extension": ".py",
   "mimetype": "text/x-python",
   "name": "python",
   "nbconvert_exporter": "python",
   "pygments_lexer": "ipython3",
   "version": "3.11.9"
  },
  "orig_nbformat": 4
 },
 "nbformat": 4,
 "nbformat_minor": 2
}
